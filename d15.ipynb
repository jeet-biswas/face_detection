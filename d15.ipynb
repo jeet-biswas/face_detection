{
 "cells": [
  {
   "cell_type": "markdown",
   "id": "92bfae42",
   "metadata": {},
   "source": [
    "## Video capturing "
   ]
  },
  {
   "cell_type": "code",
   "execution_count": 1,
   "id": "dfa489fa",
   "metadata": {},
   "outputs": [
    {
     "name": "stdout",
     "output_type": "stream",
     "text": [
      "True\n",
      "[[[193 180 172]\n",
      "  [189 176 168]\n",
      "  [189 175 165]\n",
      "  ...\n",
      "  [ 65  38  23]\n",
      "  [ 65  38  23]\n",
      "  [ 65  38  23]]\n",
      "\n",
      " [[197 185 176]\n",
      "  [195 182 174]\n",
      "  [195 181 171]\n",
      "  ...\n",
      "  [ 67  40  25]\n",
      "  [ 67  40  25]\n",
      "  [ 67  40  25]]\n",
      "\n",
      " [[201 189 181]\n",
      "  [196 185 176]\n",
      "  [196 185 174]\n",
      "  ...\n",
      "  [ 72  45  30]\n",
      "  [ 72  45  30]\n",
      "  [ 72  45  30]]\n",
      "\n",
      " ...\n",
      "\n",
      " [[119 103  89]\n",
      "  [120 104  90]\n",
      "  [119 103  89]\n",
      "  ...\n",
      "  [ 74  49  34]\n",
      "  [ 74  49  34]\n",
      "  [ 74  49  34]]\n",
      "\n",
      " [[117 101  87]\n",
      "  [117 101  87]\n",
      "  [118 102  88]\n",
      "  ...\n",
      "  [ 73  48  33]\n",
      "  [ 73  48  33]\n",
      "  [ 73  48  33]]\n",
      "\n",
      " [[115  98  84]\n",
      "  [115  98  84]\n",
      "  [115  98  84]\n",
      "  ...\n",
      "  [ 70  46  31]\n",
      "  [ 72  47  32]\n",
      "  [ 72  47  32]]]\n"
     ]
    }
   ],
   "source": [
    "import cv2\n",
    "vide=\"/Users/jeetbiswas/Desktop/Internship/mixkit-blue-sky-background-as-the-clouds-travel-blown-by-the-26108-hd-ready.mp4\"\n",
    "cap=cv2.VideoCapture(vide)\n",
    "\n",
    "if cap.isOpened():\n",
    "    ret,frame=cap.read()\n",
    "    print(ret)\n",
    "    print(frame)\n",
    "else:\n",
    "    ret=False\n"
   ]
  },
  {
   "cell_type": "code",
   "execution_count": null,
   "id": "cb8ad810",
   "metadata": {},
   "outputs": [],
   "source": []
  }
 ],
 "metadata": {
  "kernelspec": {
   "display_name": "Python 3",
   "language": "python",
   "name": "python3"
  },
  "language_info": {
   "codemirror_mode": {
    "name": "ipython",
    "version": 3
   },
   "file_extension": ".py",
   "mimetype": "text/x-python",
   "name": "python",
   "nbconvert_exporter": "python",
   "pygments_lexer": "ipython3",
   "version": "3.11.4"
  }
 },
 "nbformat": 4,
 "nbformat_minor": 5
}
